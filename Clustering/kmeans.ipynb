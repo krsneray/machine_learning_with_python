{
 "cells": [
  {
   "cell_type": "markdown",
   "id": "76bab43f-11e8-42d2-9ade-8c6e81bd5c78",
   "metadata": {},
   "source": [
    "## Gerekli Kütüphaneler"
   ]
  },
  {
   "cell_type": "code",
   "execution_count": 1,
   "id": "a15d739a-12a5-4b39-9ff3-b6f9f4c4237a",
   "metadata": {},
   "outputs": [],
   "source": [
    "import numpy as np \n",
    "import pandas as pd\n",
    "import matplotlib.pyplot as plt\n",
    "import os\n",
    "os.environ[\"OMP_NUM_THREADS\"] = \"1\""
   ]
  },
  {
   "cell_type": "markdown",
   "id": "263cf1d4-3515-492f-81cb-e60247b9199b",
   "metadata": {},
   "source": [
    "## Veri Setinin Eklenmesi"
   ]
  },
  {
   "cell_type": "code",
   "execution_count": 2,
   "id": "58495951-ea83-4e18-bd75-2686c2cf4cca",
   "metadata": {},
   "outputs": [
    {
     "name": "stdout",
     "output_type": "stream",
     "text": [
      "<class 'pandas.core.frame.DataFrame'>\n",
      "RangeIndex: 200 entries, 0 to 199\n",
      "Data columns (total 5 columns):\n",
      " #   Column    Non-Null Count  Dtype \n",
      "---  ------    --------------  ----- \n",
      " 0   No        200 non-null    int64 \n",
      " 1   Cinsiyet  200 non-null    object\n",
      " 2   Yas       200 non-null    int64 \n",
      " 3   Hacim     200 non-null    int64 \n",
      " 4   Maas      200 non-null    int64 \n",
      "dtypes: int64(4), object(1)\n",
      "memory usage: 7.9+ KB\n",
      "None\n"
     ]
    },
    {
     "data": {
      "text/html": [
       "<div>\n",
       "<style scoped>\n",
       "    .dataframe tbody tr th:only-of-type {\n",
       "        vertical-align: middle;\n",
       "    }\n",
       "\n",
       "    .dataframe tbody tr th {\n",
       "        vertical-align: top;\n",
       "    }\n",
       "\n",
       "    .dataframe thead th {\n",
       "        text-align: right;\n",
       "    }\n",
       "</style>\n",
       "<table border=\"1\" class=\"dataframe\">\n",
       "  <thead>\n",
       "    <tr style=\"text-align: right;\">\n",
       "      <th></th>\n",
       "      <th>No</th>\n",
       "      <th>Cinsiyet</th>\n",
       "      <th>Yas</th>\n",
       "      <th>Hacim</th>\n",
       "      <th>Maas</th>\n",
       "    </tr>\n",
       "  </thead>\n",
       "  <tbody>\n",
       "    <tr>\n",
       "      <th>0</th>\n",
       "      <td>1</td>\n",
       "      <td>K</td>\n",
       "      <td>60</td>\n",
       "      <td>69900</td>\n",
       "      <td>6325</td>\n",
       "    </tr>\n",
       "    <tr>\n",
       "      <th>1</th>\n",
       "      <td>2</td>\n",
       "      <td>K</td>\n",
       "      <td>30</td>\n",
       "      <td>79000</td>\n",
       "      <td>5200</td>\n",
       "    </tr>\n",
       "    <tr>\n",
       "      <th>2</th>\n",
       "      <td>3</td>\n",
       "      <td>E</td>\n",
       "      <td>52</td>\n",
       "      <td>85500</td>\n",
       "      <td>7825</td>\n",
       "    </tr>\n",
       "    <tr>\n",
       "      <th>3</th>\n",
       "      <td>4</td>\n",
       "      <td>E</td>\n",
       "      <td>57</td>\n",
       "      <td>17100</td>\n",
       "      <td>8375</td>\n",
       "    </tr>\n",
       "    <tr>\n",
       "      <th>4</th>\n",
       "      <td>5</td>\n",
       "      <td>E</td>\n",
       "      <td>55</td>\n",
       "      <td>5500</td>\n",
       "      <td>5450</td>\n",
       "    </tr>\n",
       "  </tbody>\n",
       "</table>\n",
       "</div>"
      ],
      "text/plain": [
       "   No Cinsiyet  Yas  Hacim  Maas\n",
       "0   1        K   60  69900  6325\n",
       "1   2        K   30  79000  5200\n",
       "2   3        E   52  85500  7825\n",
       "3   4        E   57  17100  8375\n",
       "4   5        E   55   5500  5450"
      ]
     },
     "execution_count": 2,
     "metadata": {},
     "output_type": "execute_result"
    }
   ],
   "source": [
    "df = pd.read_csv('musteriler.csv')\n",
    "print(df.info())\n",
    "df.head()"
   ]
  },
  {
   "cell_type": "markdown",
   "id": "309062ed-c439-4e69-b866-afe6eaeaef5e",
   "metadata": {},
   "source": [
    "## Veri Ön İşleme"
   ]
  },
  {
   "cell_type": "code",
   "execution_count": 3,
   "id": "5b747388-56a3-4b08-b3f4-2196e3e00859",
   "metadata": {},
   "outputs": [],
   "source": [
    "x = df.iloc[:,3:].values\n",
    "y = df['Maas'].values"
   ]
  },
  {
   "cell_type": "markdown",
   "id": "e294b5b1-c614-4015-94c4-1ba5315c6a3f",
   "metadata": {},
   "source": [
    "## Sınıflandırma Modeli"
   ]
  },
  {
   "cell_type": "code",
   "execution_count": 4,
   "id": "feaf65e0-1b9f-4231-a2fb-69ccdb5c239b",
   "metadata": {},
   "outputs": [
    {
     "name": "stdout",
     "output_type": "stream",
     "text": [
      "[[ 58911.76470588   5865.44117647]\n",
      " [104386.95652174   7289.13043478]\n",
      " [ 22282.55813953   5310.75581395]]\n"
     ]
    }
   ],
   "source": [
    "from sklearn.cluster import KMeans\n",
    "\n",
    "kmeans = KMeans(n_clusters=3, init='k-means++')\n",
    "kmeans.fit(x)\n",
    "print(kmeans.cluster_centers_)"
   ]
  },
  {
   "cell_type": "markdown",
   "id": "69d7c308-9f1b-4176-ad57-81258e6ddcbe",
   "metadata": {},
   "source": [
    "## Modelin Değerlendirilmesi"
   ]
  },
  {
   "cell_type": "code",
   "execution_count": 5,
   "id": "bf5bae95-7b3d-4200-9fba-ab4ace45831c",
   "metadata": {
    "scrolled": true
   },
   "outputs": [],
   "source": [
    "sonuclar = []\n",
    "for i in range(1,11):\n",
    "    kmeans = KMeans(n_clusters=i, init='k-means++', random_state=0)\n",
    "    kmeans.fit(x)\n",
    "    sonuclar.append(kmeans.inertia_) ## wcss değerleri"
   ]
  },
  {
   "cell_type": "code",
   "execution_count": 6,
   "id": "ca10ae7b-d4ec-406f-a9f1-98db70424376",
   "metadata": {},
   "outputs": [
    {
     "data": {
      "text/plain": [
       "[<matplotlib.lines.Line2D at 0x163474c6d10>]"
      ]
     },
     "execution_count": 6,
     "metadata": {},
     "output_type": "execute_result"
    },
    {
     "data": {
      "image/png": "[encoded data removed]",
      "text/plain": [
       "<Figure size 640x480 with 1 Axes>"
      ]
     },
     "metadata": {},
     "output_type": "display_data"
    }
   ],
   "source": [
    "plt.plot(range(1,11),sonuclar)"
   ]
  }
 ],
 "metadata": {
  "kernelspec": {
   "display_name": "Python 3 (ipykernel)",
   "language": "python",
   "name": "python3"
  },
  "language_info": {
   "codemirror_mode": {
    "name": "ipython",
    "version": 3
   },
   "file_extension": ".py",
   "mimetype": "text/x-python",
   "name": "python",
   "nbconvert_exporter": "python",
   "pygments_lexer": "ipython3",
   "version": "3.10.16"
  }
 },
 "nbformat": 4,
 "nbformat_minor": 5
}
