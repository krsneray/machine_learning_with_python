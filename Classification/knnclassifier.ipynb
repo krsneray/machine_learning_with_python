{
 "cells": [
  {
   "cell_type": "markdown",
   "id": "fead0df1-de62-4e63-b3fc-3eb590073953",
   "metadata": {},
   "source": [
    "## Gerekli Kütüphaneler"
   ]
  },
  {
   "cell_type": "code",
   "execution_count": 1,
   "id": "c0ef7ad3-a767-453b-a710-e0dbb217b686",
   "metadata": {},
   "outputs": [],
   "source": [
    "import numpy as np\n",
    "import pandas as pd \n",
    "import matplotlib.pyplot as plt"
   ]
  },
  {
   "cell_type": "markdown",
   "id": "fc3e765f-9a77-46e3-80bd-ebee57b9c790",
   "metadata": {},
   "source": [
    "## Veri Setinin Eklenmesi"
   ]
  },
  {
   "cell_type": "code",
   "execution_count": 2,
   "id": "4ff24c60-7419-4687-bcf6-513221a18ec8",
   "metadata": {},
   "outputs": [
    {
     "data": {
      "text/html": [
       "<div>\n",
       "<style scoped>\n",
       "    .dataframe tbody tr th:only-of-type {\n",
       "        vertical-align: middle;\n",
       "    }\n",
       "\n",
       "    .dataframe tbody tr th {\n",
       "        vertical-align: top;\n",
       "    }\n",
       "\n",
       "    .dataframe thead th {\n",
       "        text-align: right;\n",
       "    }\n",
       "</style>\n",
       "<table border=\"1\" class=\"dataframe\">\n",
       "  <thead>\n",
       "    <tr style=\"text-align: right;\">\n",
       "      <th></th>\n",
       "      <th>ulke</th>\n",
       "      <th>boy</th>\n",
       "      <th>kilo</th>\n",
       "      <th>yas</th>\n",
       "      <th>cinsiyet</th>\n",
       "    </tr>\n",
       "  </thead>\n",
       "  <tbody>\n",
       "    <tr>\n",
       "      <th>0</th>\n",
       "      <td>tr</td>\n",
       "      <td>130</td>\n",
       "      <td>30</td>\n",
       "      <td>10.0</td>\n",
       "      <td>e</td>\n",
       "    </tr>\n",
       "    <tr>\n",
       "      <th>1</th>\n",
       "      <td>tr</td>\n",
       "      <td>125</td>\n",
       "      <td>36</td>\n",
       "      <td>11.0</td>\n",
       "      <td>e</td>\n",
       "    </tr>\n",
       "    <tr>\n",
       "      <th>2</th>\n",
       "      <td>tr</td>\n",
       "      <td>135</td>\n",
       "      <td>34</td>\n",
       "      <td>10.0</td>\n",
       "      <td>k</td>\n",
       "    </tr>\n",
       "    <tr>\n",
       "      <th>3</th>\n",
       "      <td>tr</td>\n",
       "      <td>133</td>\n",
       "      <td>30</td>\n",
       "      <td>9.0</td>\n",
       "      <td>k</td>\n",
       "    </tr>\n",
       "    <tr>\n",
       "      <th>4</th>\n",
       "      <td>tr</td>\n",
       "      <td>129</td>\n",
       "      <td>38</td>\n",
       "      <td>12.0</td>\n",
       "      <td>e</td>\n",
       "    </tr>\n",
       "  </tbody>\n",
       "</table>\n",
       "</div>"
      ],
      "text/plain": [
       "  ulke  boy  kilo   yas cinsiyet\n",
       "0   tr  130    30  10.0        e\n",
       "1   tr  125    36  11.0        e\n",
       "2   tr  135    34  10.0        k\n",
       "3   tr  133    30   9.0        k\n",
       "4   tr  129    38  12.0        e"
      ]
     },
     "execution_count": 2,
     "metadata": {},
     "output_type": "execute_result"
    }
   ],
   "source": [
    "df = pd.read_csv('Veriler.csv')\n",
    "df = df.dropna()\n",
    "df.head()"
   ]
  },
  {
   "cell_type": "markdown",
   "id": "58aec453-40b9-4004-b2ae-7a21cdcff890",
   "metadata": {},
   "source": [
    "## Veri Ön İşleme"
   ]
  },
  {
   "cell_type": "code",
   "execution_count": 3,
   "id": "c67f2a54-fcb3-4245-8820-7e4b60186752",
   "metadata": {},
   "outputs": [],
   "source": [
    "from sklearn.preprocessing import LabelEncoder\n",
    "le = LabelEncoder()\n",
    "df['cinsiyet'] = le.fit_transform(df['cinsiyet'])\n",
    "df['ulke'] = le.fit_transform(df['ulke'])"
   ]
  },
  {
   "cell_type": "code",
   "execution_count": 4,
   "id": "b298a00c-9352-4118-95c4-ab5051c4b190",
   "metadata": {},
   "outputs": [],
   "source": [
    "x = df.drop(columns=['cinsiyet'],axis=1).values\n",
    "y = df['cinsiyet'].values"
   ]
  },
  {
   "cell_type": "code",
   "execution_count": 5,
   "id": "aa4ff2f5-90d6-423e-a429-8bb397a70ba5",
   "metadata": {},
   "outputs": [],
   "source": [
    "from sklearn.model_selection import train_test_split\n",
    "xtrain, xtest, ytrain, ytest = train_test_split(x,y,random_state=0,test_size=0.33)"
   ]
  },
  {
   "cell_type": "markdown",
   "id": "d7783198-cbdc-4ad9-8dbb-eee0eb3f7079",
   "metadata": {},
   "source": [
    "## Sınıflandırma Modeli"
   ]
  },
  {
   "cell_type": "code",
   "execution_count": 6,
   "id": "9dc3e2ee-c1ec-40f2-a9d4-876a2727e7ff",
   "metadata": {},
   "outputs": [],
   "source": [
    "from sklearn.neighbors import KNeighborsClassifier\n",
    "knn = KNeighborsClassifier(n_neighbors=1, metric='minkowski')\n",
    "knn.fit(xtrain,ytrain)\n",
    "knnPredict = knn.predict(xtest)"
   ]
  },
  {
   "cell_type": "markdown",
   "id": "01521715-fca2-40ae-9ddf-fcd7ddbff8b9",
   "metadata": {},
   "source": [
    "## Model Değerlendirmesi"
   ]
  },
  {
   "cell_type": "code",
   "execution_count": 7,
   "id": "ff7fc98d-2ef9-47c0-a5df-929af161bd4d",
   "metadata": {},
   "outputs": [
    {
     "name": "stdout",
     "output_type": "stream",
     "text": [
      "[[2 0]\n",
      " [1 4]]\n"
     ]
    }
   ],
   "source": [
    "from sklearn.metrics import confusion_matrix\n",
    "cm = confusion_matrix(ytest,knnPredict)\n",
    "print(cm)"
   ]
  }
 ],
 "metadata": {
  "kernelspec": {
   "display_name": "Python 3 (ipykernel)",
   "language": "python",
   "name": "python3"
  },
  "language_info": {
   "codemirror_mode": {
    "name": "ipython",
    "version": 3
   },
   "file_extension": ".py",
   "mimetype": "text/x-python",
   "name": "python",
   "nbconvert_exporter": "python",
   "pygments_lexer": "ipython3",
   "version": "3.10.16"
  }
 },
 "nbformat": 4,
 "nbformat_minor": 5
}
