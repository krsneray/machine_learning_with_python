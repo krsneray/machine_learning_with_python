{
 "cells": [
  {
   "cell_type": "markdown",
   "id": "adc9f729-b6bd-4311-8e6e-e3cab6c7cbc0",
   "metadata": {},
   "source": [
    "## Gerekli Kütüphaneler"
   ]
  },
  {
   "cell_type": "code",
   "execution_count": 1,
   "id": "01c932d5-a9ce-48c6-8696-37e19f3655f9",
   "metadata": {},
   "outputs": [],
   "source": [
    "import numpy as np\n",
    "import pandas as pd\n",
    "import matplotlib.pyplot as plt"
   ]
  },
  {
   "cell_type": "markdown",
   "id": "386e45bc-2b8b-457b-aa16-f59f0255aaae",
   "metadata": {},
   "source": [
    "## Veri Setinin Eklenmesi"
   ]
  },
  {
   "cell_type": "code",
   "execution_count": 2,
   "id": "61bb604c-b653-4f57-8129-bd931fee8d91",
   "metadata": {},
   "outputs": [
    {
     "name": "stdout",
     "output_type": "stream",
     "text": [
      "<class 'pandas.core.frame.DataFrame'>\n",
      "Index: 20 entries, 0 to 21\n",
      "Data columns (total 5 columns):\n",
      " #   Column    Non-Null Count  Dtype  \n",
      "---  ------    --------------  -----  \n",
      " 0   ulke      20 non-null     object \n",
      " 1   boy       20 non-null     int64  \n",
      " 2   kilo      20 non-null     int64  \n",
      " 3   yas       20 non-null     float64\n",
      " 4   cinsiyet  20 non-null     object \n",
      "dtypes: float64(1), int64(2), object(2)\n",
      "memory usage: 960.0+ bytes\n",
      "None\n"
     ]
    },
    {
     "data": {
      "text/html": [
       "<div>\n",
       "<style scoped>\n",
       "    .dataframe tbody tr th:only-of-type {\n",
       "        vertical-align: middle;\n",
       "    }\n",
       "\n",
       "    .dataframe tbody tr th {\n",
       "        vertical-align: top;\n",
       "    }\n",
       "\n",
       "    .dataframe thead th {\n",
       "        text-align: right;\n",
       "    }\n",
       "</style>\n",
       "<table border=\"1\" class=\"dataframe\">\n",
       "  <thead>\n",
       "    <tr style=\"text-align: right;\">\n",
       "      <th></th>\n",
       "      <th>ulke</th>\n",
       "      <th>boy</th>\n",
       "      <th>kilo</th>\n",
       "      <th>yas</th>\n",
       "      <th>cinsiyet</th>\n",
       "    </tr>\n",
       "  </thead>\n",
       "  <tbody>\n",
       "    <tr>\n",
       "      <th>0</th>\n",
       "      <td>tr</td>\n",
       "      <td>130</td>\n",
       "      <td>30</td>\n",
       "      <td>10.0</td>\n",
       "      <td>e</td>\n",
       "    </tr>\n",
       "    <tr>\n",
       "      <th>1</th>\n",
       "      <td>tr</td>\n",
       "      <td>125</td>\n",
       "      <td>36</td>\n",
       "      <td>11.0</td>\n",
       "      <td>e</td>\n",
       "    </tr>\n",
       "    <tr>\n",
       "      <th>2</th>\n",
       "      <td>tr</td>\n",
       "      <td>135</td>\n",
       "      <td>34</td>\n",
       "      <td>10.0</td>\n",
       "      <td>k</td>\n",
       "    </tr>\n",
       "    <tr>\n",
       "      <th>3</th>\n",
       "      <td>tr</td>\n",
       "      <td>133</td>\n",
       "      <td>30</td>\n",
       "      <td>9.0</td>\n",
       "      <td>k</td>\n",
       "    </tr>\n",
       "    <tr>\n",
       "      <th>4</th>\n",
       "      <td>tr</td>\n",
       "      <td>129</td>\n",
       "      <td>38</td>\n",
       "      <td>12.0</td>\n",
       "      <td>e</td>\n",
       "    </tr>\n",
       "  </tbody>\n",
       "</table>\n",
       "</div>"
      ],
      "text/plain": [
       "  ulke  boy  kilo   yas cinsiyet\n",
       "0   tr  130    30  10.0        e\n",
       "1   tr  125    36  11.0        e\n",
       "2   tr  135    34  10.0        k\n",
       "3   tr  133    30   9.0        k\n",
       "4   tr  129    38  12.0        e"
      ]
     },
     "execution_count": 2,
     "metadata": {},
     "output_type": "execute_result"
    }
   ],
   "source": [
    "df = pd.read_csv('Veriler.csv')\n",
    "df = df.dropna()\n",
    "print(df.info())\n",
    "df.head()"
   ]
  },
  {
   "cell_type": "markdown",
   "id": "ea760c95-ad26-4be3-aa98-dc41da3bac69",
   "metadata": {},
   "source": [
    "## Veri Ön İşleme"
   ]
  },
  {
   "cell_type": "code",
   "execution_count": 3,
   "id": "0a462f48-86af-4495-8094-84e53ee1fa7c",
   "metadata": {},
   "outputs": [],
   "source": [
    "from sklearn.preprocessing import LabelEncoder\n",
    "le = LabelEncoder()\n",
    "df['ulke'] = le.fit_transform(df['ulke'])\n",
    "df['cinsiyet'] = le.fit_transform(df['cinsiyet'])"
   ]
  },
  {
   "cell_type": "code",
   "execution_count": 4,
   "id": "42cac167-9894-480e-b9f3-c642fd428c07",
   "metadata": {},
   "outputs": [],
   "source": [
    "x = df.drop(columns=['cinsiyet']).values\n",
    "y = df['cinsiyet'].values"
   ]
  },
  {
   "cell_type": "code",
   "execution_count": 5,
   "id": "28d8f8c1-f626-40d0-9aae-8d0c46abd7fd",
   "metadata": {},
   "outputs": [],
   "source": [
    "from sklearn.model_selection import train_test_split\n",
    "xtrain, xtest, ytrain, ytest = train_test_split(x,y,random_state=0,test_size=0.33)"
   ]
  },
  {
   "cell_type": "markdown",
   "id": "458178e2-d005-43ae-ae6b-80f416654dbb",
   "metadata": {},
   "source": [
    "## Sınıflandırma Modeli"
   ]
  },
  {
   "cell_type": "code",
   "execution_count": 6,
   "id": "516ba380-fc7d-4aa2-8f58-ab4a2d6b8b92",
   "metadata": {},
   "outputs": [],
   "source": [
    "from sklearn.ensemble import RandomForestClassifier\n",
    "rfc = RandomForestClassifier(n_estimators=10, criterion='entropy')\n",
    "rfc.fit(xtrain,ytrain)\n",
    "rfcPredict = rfc.predict(xtest)"
   ]
  },
  {
   "cell_type": "markdown",
   "id": "b56b422b-cede-4741-9ff5-58b6a5d12ba1",
   "metadata": {},
   "source": [
    "## Model Değerlendirmesi"
   ]
  },
  {
   "cell_type": "code",
   "execution_count": 7,
   "id": "3b8861e1-9947-4040-b9df-c235935ec164",
   "metadata": {},
   "outputs": [
    {
     "name": "stdout",
     "output_type": "stream",
     "text": [
      "[[1 1]\n",
      " [3 2]]\n"
     ]
    }
   ],
   "source": [
    "from sklearn.metrics import confusion_matrix\n",
    "cm = confusion_matrix(ytest,rfcPredict)\n",
    "print(cm)"
   ]
  }
 ],
 "metadata": {
  "kernelspec": {
   "display_name": "Python 3 (ipykernel)",
   "language": "python",
   "name": "python3"
  },
  "language_info": {
   "codemirror_mode": {
    "name": "ipython",
    "version": 3
   },
   "file_extension": ".py",
   "mimetype": "text/x-python",
   "name": "python",
   "nbconvert_exporter": "python",
   "pygments_lexer": "ipython3",
   "version": "3.10.16"
  }
 },
 "nbformat": 4,
 "nbformat_minor": 5
}
