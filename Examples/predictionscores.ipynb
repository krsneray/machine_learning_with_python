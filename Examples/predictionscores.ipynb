{
 "cells": [
  {
   "cell_type": "markdown",
   "id": "59648dd1-a1be-40d7-b79a-f02ad4b0c217",
   "metadata": {},
   "source": [
    "## Gerekli Kütüphaneler"
   ]
  },
  {
   "cell_type": "code",
   "execution_count": 1,
   "id": "5c1b595e-4f8b-44b0-965f-11b5d457af59",
   "metadata": {},
   "outputs": [],
   "source": [
    "import numpy as np \n",
    "import pandas as pd\n",
    "import matplotlib.pyplot as plt"
   ]
  },
  {
   "cell_type": "markdown",
   "id": "6cd2eafa-4dc5-4f63-9e3c-54f1a45c2a00",
   "metadata": {},
   "source": [
    "## Veri Setinin Eklenmesi"
   ]
  },
  {
   "cell_type": "code",
   "execution_count": 2,
   "id": "2fdb860c-edf5-44da-af00-d84cee199317",
   "metadata": {},
   "outputs": [],
   "source": [
    "df = pd.read_csv('Maaslar.csv')"
   ]
  },
  {
   "cell_type": "code",
   "execution_count": 3,
   "id": "0c37885b-eb73-4d1e-bee6-7ab09402cffe",
   "metadata": {},
   "outputs": [
    {
     "data": {
      "text/html": [
       "<div>\n",
       "<style scoped>\n",
       "    .dataframe tbody tr th:only-of-type {\n",
       "        vertical-align: middle;\n",
       "    }\n",
       "\n",
       "    .dataframe tbody tr th {\n",
       "        vertical-align: top;\n",
       "    }\n",
       "\n",
       "    .dataframe thead th {\n",
       "        text-align: right;\n",
       "    }\n",
       "</style>\n",
       "<table border=\"1\" class=\"dataframe\">\n",
       "  <thead>\n",
       "    <tr style=\"text-align: right;\">\n",
       "      <th></th>\n",
       "      <th>unvan</th>\n",
       "      <th>Egitim Seviyesi</th>\n",
       "      <th>maas</th>\n",
       "    </tr>\n",
       "  </thead>\n",
       "  <tbody>\n",
       "    <tr>\n",
       "      <th>0</th>\n",
       "      <td>Cayci</td>\n",
       "      <td>1</td>\n",
       "      <td>2250</td>\n",
       "    </tr>\n",
       "    <tr>\n",
       "      <th>1</th>\n",
       "      <td>Sekreter</td>\n",
       "      <td>2</td>\n",
       "      <td>2500</td>\n",
       "    </tr>\n",
       "    <tr>\n",
       "      <th>2</th>\n",
       "      <td>Uzman Yardimcisi</td>\n",
       "      <td>3</td>\n",
       "      <td>3000</td>\n",
       "    </tr>\n",
       "    <tr>\n",
       "      <th>3</th>\n",
       "      <td>Uzman</td>\n",
       "      <td>4</td>\n",
       "      <td>4000</td>\n",
       "    </tr>\n",
       "    <tr>\n",
       "      <th>4</th>\n",
       "      <td>Proje Yoneticisi</td>\n",
       "      <td>5</td>\n",
       "      <td>5500</td>\n",
       "    </tr>\n",
       "    <tr>\n",
       "      <th>5</th>\n",
       "      <td>Sef</td>\n",
       "      <td>6</td>\n",
       "      <td>7500</td>\n",
       "    </tr>\n",
       "    <tr>\n",
       "      <th>6</th>\n",
       "      <td>Mudur</td>\n",
       "      <td>7</td>\n",
       "      <td>10000</td>\n",
       "    </tr>\n",
       "    <tr>\n",
       "      <th>7</th>\n",
       "      <td>Direktor</td>\n",
       "      <td>8</td>\n",
       "      <td>15000</td>\n",
       "    </tr>\n",
       "    <tr>\n",
       "      <th>8</th>\n",
       "      <td>C-level</td>\n",
       "      <td>9</td>\n",
       "      <td>25000</td>\n",
       "    </tr>\n",
       "    <tr>\n",
       "      <th>9</th>\n",
       "      <td>CEO</td>\n",
       "      <td>10</td>\n",
       "      <td>50000</td>\n",
       "    </tr>\n",
       "  </tbody>\n",
       "</table>\n",
       "</div>"
      ],
      "text/plain": [
       "              unvan  Egitim Seviyesi   maas\n",
       "0             Cayci                1   2250\n",
       "1          Sekreter                2   2500\n",
       "2  Uzman Yardimcisi                3   3000\n",
       "3             Uzman                4   4000\n",
       "4  Proje Yoneticisi                5   5500\n",
       "5               Sef                6   7500\n",
       "6             Mudur                7  10000\n",
       "7          Direktor                8  15000\n",
       "8           C-level                9  25000\n",
       "9               CEO               10  50000"
      ]
     },
     "execution_count": 3,
     "metadata": {},
     "output_type": "execute_result"
    }
   ],
   "source": [
    "df"
   ]
  },
  {
   "cell_type": "markdown",
   "id": "c6b30c0a-db04-49e5-8d5c-e90235531a33",
   "metadata": {},
   "source": [
    "## Bağımlı Ve Bağımsız Değişkenlerin Belirlenmesi"
   ]
  },
  {
   "cell_type": "code",
   "execution_count": 4,
   "id": "d5f2c27f-6bb8-4396-a42c-933ac18a3cb3",
   "metadata": {},
   "outputs": [],
   "source": [
    "x = df.drop(columns=['maas','unvan'],axis=1).values\n",
    "y = df['maas'].values"
   ]
  },
  {
   "cell_type": "markdown",
   "id": "99e90230-01d3-4541-9669-1901610c50f6",
   "metadata": {},
   "source": [
    "## Bazı Modellerin R2 Skoru"
   ]
  },
  {
   "cell_type": "code",
   "execution_count": 5,
   "id": "511c490b-08eb-4ce1-8ac3-39b56a3b5c91",
   "metadata": {},
   "outputs": [],
   "source": [
    "from sklearn.metrics import r2_score"
   ]
  },
  {
   "cell_type": "code",
   "execution_count": 6,
   "id": "3c3afeaf-a11b-46a2-af9d-4bbfc3b05338",
   "metadata": {},
   "outputs": [],
   "source": [
    "from sklearn.ensemble import RandomForestRegressor"
   ]
  },
  {
   "cell_type": "code",
   "execution_count": 7,
   "id": "1d6a0693-6cd4-4c04-8180-fddb4b66f76d",
   "metadata": {},
   "outputs": [
    {
     "name": "stdout",
     "output_type": "stream",
     "text": [
      "0.9704434230386582\n"
     ]
    }
   ],
   "source": [
    "rf_reg = RandomForestRegressor(n_estimators=10,random_state=0)\n",
    "rf_reg.fit(x,y)\n",
    "print(r2_score(y,rf_reg.predict(x)))"
   ]
  },
  {
   "cell_type": "code",
   "execution_count": 8,
   "id": "2c30ed16-a4e8-4051-b6e5-29e3f36e036f",
   "metadata": {},
   "outputs": [],
   "source": [
    "from sklearn.tree import DecisionTreeRegressor"
   ]
  },
  {
   "cell_type": "code",
   "execution_count": 9,
   "id": "4b0fb455-7b9d-4d8f-accc-ef502416985a",
   "metadata": {},
   "outputs": [
    {
     "name": "stdout",
     "output_type": "stream",
     "text": [
      "1.0\n"
     ]
    }
   ],
   "source": [
    "r_dt = DecisionTreeRegressor(random_state=0)\n",
    "r_dt.fit(x,y)\n",
    "print(r2_score(y,r_dt.predict(x)))"
   ]
  },
  {
   "cell_type": "code",
   "execution_count": 10,
   "id": "3778e4e8-d87a-4635-a1d1-3fa9056559d0",
   "metadata": {},
   "outputs": [],
   "source": [
    "#R2 skorunun 1 çıkması çoğunlukla olağan bir durum değildir. Model belirli değerleri ezberlemiş olabilir ya da fazla öğrenmiş (Overfitting) olabilir."
   ]
  },
  {
   "cell_type": "code",
   "execution_count": 11,
   "id": "4597eda2-a348-43fc-8a64-f06ae9f9177e",
   "metadata": {},
   "outputs": [],
   "source": [
    "#R2 skoru maksimum 1'dir ve en mükemmel durumdur 0 olma durumu en kötü olan durumdur fakat bu değer eksi sonsuza kadar gidebilir."
   ]
  }
 ],
 "metadata": {
  "kernelspec": {
   "display_name": "Python 3 (ipykernel)",
   "language": "python",
   "name": "python3"
  },
  "language_info": {
   "codemirror_mode": {
    "name": "ipython",
    "version": 3
   },
   "file_extension": ".py",
   "mimetype": "text/x-python",
   "name": "python",
   "nbconvert_exporter": "python",
   "pygments_lexer": "ipython3",
   "version": "3.12.7"
  }
 },
 "nbformat": 4,
 "nbformat_minor": 5
}
