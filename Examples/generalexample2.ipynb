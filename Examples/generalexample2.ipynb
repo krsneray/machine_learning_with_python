{
 "cells": [
  {
   "cell_type": "markdown",
   "id": "104e643a-ac9e-4acd-9a05-2a08cf325927",
   "metadata": {},
   "source": [
    "## Gerekli Kütüphaneler "
   ]
  },
  {
   "cell_type": "code",
   "execution_count": 1,
   "id": "4e83d6be-703e-4171-947d-965866ad1d89",
   "metadata": {},
   "outputs": [],
   "source": [
    "import numpy as np \n",
    "import pandas as pd \n",
    "import matplotlib.pyplot as plt"
   ]
  },
  {
   "cell_type": "markdown",
   "id": "a002edcc-f1fa-4c95-b9ab-2c4324147071",
   "metadata": {},
   "source": [
    "## Veri Setinin Eklenmesi"
   ]
  },
  {
   "cell_type": "code",
   "execution_count": 2,
   "id": "737df3d0-42a2-4568-9696-6c6a57dcee5a",
   "metadata": {},
   "outputs": [
    {
     "name": "stdout",
     "output_type": "stream",
     "text": [
      "<class 'pandas.core.frame.DataFrame'>\n",
      "RangeIndex: 149 entries, 0 to 148\n",
      "Data columns (total 5 columns):\n",
      " #   Column       Non-Null Count  Dtype  \n",
      "---  ------       --------------  -----  \n",
      " 0   5.1          149 non-null    float64\n",
      " 1   3.5          149 non-null    float64\n",
      " 2   1.4          149 non-null    float64\n",
      " 3   0.2          149 non-null    float64\n",
      " 4   Iris-setosa  149 non-null    object \n",
      "dtypes: float64(4), object(1)\n",
      "memory usage: 5.9+ KB\n",
      "None\n"
     ]
    },
    {
     "data": {
      "text/html": [
       "<div>\n",
       "<style scoped>\n",
       "    .dataframe tbody tr th:only-of-type {\n",
       "        vertical-align: middle;\n",
       "    }\n",
       "\n",
       "    .dataframe tbody tr th {\n",
       "        vertical-align: top;\n",
       "    }\n",
       "\n",
       "    .dataframe thead th {\n",
       "        text-align: right;\n",
       "    }\n",
       "</style>\n",
       "<table border=\"1\" class=\"dataframe\">\n",
       "  <thead>\n",
       "    <tr style=\"text-align: right;\">\n",
       "      <th></th>\n",
       "      <th>5.1</th>\n",
       "      <th>3.5</th>\n",
       "      <th>1.4</th>\n",
       "      <th>0.2</th>\n",
       "      <th>Iris-setosa</th>\n",
       "    </tr>\n",
       "  </thead>\n",
       "  <tbody>\n",
       "    <tr>\n",
       "      <th>0</th>\n",
       "      <td>4.9</td>\n",
       "      <td>3.0</td>\n",
       "      <td>1.4</td>\n",
       "      <td>0.2</td>\n",
       "      <td>Iris-setosa</td>\n",
       "    </tr>\n",
       "    <tr>\n",
       "      <th>1</th>\n",
       "      <td>4.7</td>\n",
       "      <td>3.2</td>\n",
       "      <td>1.3</td>\n",
       "      <td>0.2</td>\n",
       "      <td>Iris-setosa</td>\n",
       "    </tr>\n",
       "    <tr>\n",
       "      <th>2</th>\n",
       "      <td>4.6</td>\n",
       "      <td>3.1</td>\n",
       "      <td>1.5</td>\n",
       "      <td>0.2</td>\n",
       "      <td>Iris-setosa</td>\n",
       "    </tr>\n",
       "    <tr>\n",
       "      <th>3</th>\n",
       "      <td>5.0</td>\n",
       "      <td>3.6</td>\n",
       "      <td>1.4</td>\n",
       "      <td>0.2</td>\n",
       "      <td>Iris-setosa</td>\n",
       "    </tr>\n",
       "    <tr>\n",
       "      <th>4</th>\n",
       "      <td>5.4</td>\n",
       "      <td>3.9</td>\n",
       "      <td>1.7</td>\n",
       "      <td>0.4</td>\n",
       "      <td>Iris-setosa</td>\n",
       "    </tr>\n",
       "  </tbody>\n",
       "</table>\n",
       "</div>"
      ],
      "text/plain": [
       "   5.1  3.5  1.4  0.2  Iris-setosa\n",
       "0  4.9  3.0  1.4  0.2  Iris-setosa\n",
       "1  4.7  3.2  1.3  0.2  Iris-setosa\n",
       "2  4.6  3.1  1.5  0.2  Iris-setosa\n",
       "3  5.0  3.6  1.4  0.2  Iris-setosa\n",
       "4  5.4  3.9  1.7  0.4  Iris-setosa"
      ]
     },
     "execution_count": 2,
     "metadata": {},
     "output_type": "execute_result"
    }
   ],
   "source": [
    "df = pd.read_csv('iris.csv')\n",
    "df = df.dropna()\n",
    "print(df.info())\n",
    "df.head()"
   ]
  },
  {
   "cell_type": "markdown",
   "id": "b460bf2e-fc45-47ec-8c7d-b2924c1399a4",
   "metadata": {},
   "source": [
    "## Veri Ön İşleme"
   ]
  },
  {
   "cell_type": "code",
   "execution_count": 3,
   "id": "9305347a-e4b7-4f3d-a562-1f030fe086d1",
   "metadata": {},
   "outputs": [],
   "source": [
    "x = df.iloc[:,0:4].values\n",
    "y = df.iloc[:,4].values"
   ]
  },
  {
   "cell_type": "code",
   "execution_count": 4,
   "id": "82a8ef6c-0270-4842-b9b6-4a1100797933",
   "metadata": {},
   "outputs": [],
   "source": [
    "from sklearn.model_selection import train_test_split\n",
    "xtrain, xtest, ytrain, ytest = train_test_split(x,y,random_state=0,test_size=0.33)"
   ]
  },
  {
   "cell_type": "markdown",
   "id": "ef82ea56-e2a6-4ee5-97d6-8b86ac2aff44",
   "metadata": {},
   "source": [
    "## Sınıflandırma Modelleri Ve Değerlendirme"
   ]
  },
  {
   "cell_type": "code",
   "execution_count": 5,
   "id": "cc8282bd-daca-4143-9449-e527dec2e904",
   "metadata": {},
   "outputs": [],
   "source": [
    "from sklearn.metrics import confusion_matrix"
   ]
  },
  {
   "cell_type": "code",
   "execution_count": 6,
   "id": "3f2feb60-18f6-48f5-a6c6-db04d50e093b",
   "metadata": {},
   "outputs": [
    {
     "name": "stdout",
     "output_type": "stream",
     "text": [
      "Decision Tree Classifier\n",
      "[[16  0  0]\n",
      " [ 0 18  1]\n",
      " [ 0  4 11]]\n",
      "K Neighbors Classifier\n",
      "[[16  0  0]\n",
      " [ 0 17  2]\n",
      " [ 0  3 12]]\n",
      "Random Forest Classifier\n",
      "[[16  0  0]\n",
      " [ 0 18  1]\n",
      " [ 0  4 11]]\n",
      "Support Vector Classifier\n",
      "[[16  0  0]\n",
      " [ 0 18  1]\n",
      " [ 0  3 12]]\n"
     ]
    }
   ],
   "source": [
    "from sklearn.tree import DecisionTreeClassifier\n",
    "dtc = DecisionTreeClassifier(criterion='entropy')\n",
    "dtc.fit(xtrain,ytrain)\n",
    "dtcPredict = dtc.predict(xtest)\n",
    "cm = confusion_matrix(ytest,dtcPredict)\n",
    "print('Decision Tree Classifier')\n",
    "print(cm)\n",
    "\n",
    "from sklearn.neighbors import KNeighborsClassifier\n",
    "knn = KNeighborsClassifier(n_neighbors=1,metric='minkowski')\n",
    "knn.fit(xtrain,ytrain)\n",
    "knnPredict = knn.predict(xtest)\n",
    "cm = confusion_matrix(ytest,knnPredict)\n",
    "print('K Neighbors Classifier')\n",
    "print(cm)\n",
    "\n",
    "from sklearn.ensemble import RandomForestClassifier\n",
    "rfc = RandomForestClassifier(n_estimators=10, criterion='entropy')\n",
    "rfc.fit(xtrain,ytrain)\n",
    "rfcPredict = rfc.predict(xtest)\n",
    "cm = confusion_matrix(ytest,rfcPredict)\n",
    "print('Random Forest Classifier')\n",
    "print(cm)\n",
    "\n",
    "from sklearn.svm import SVC\n",
    "svc = SVC(kernel='linear')\n",
    "svc.fit(xtrain,ytrain)\n",
    "svcPredict = svc.predict(xtest)\n",
    "cm = confusion_matrix(ytest,svcPredict)\n",
    "print('Support Vector Classifier')\n",
    "print(cm)"
   ]
  }
 ],
 "metadata": {
  "kernelspec": {
   "display_name": "Python 3 (ipykernel)",
   "language": "python",
   "name": "python3"
  },
  "language_info": {
   "codemirror_mode": {
    "name": "ipython",
    "version": 3
   },
   "file_extension": ".py",
   "mimetype": "text/x-python",
   "name": "python",
   "nbconvert_exporter": "python",
   "pygments_lexer": "ipython3",
   "version": "3.10.16"
  }
 },
 "nbformat": 4,
 "nbformat_minor": 5
}
