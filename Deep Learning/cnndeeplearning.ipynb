{
 "cells": [
  {
   "cell_type": "markdown",
   "id": "2ccbb4cc-b73e-49e3-a2ba-faaa27da711d",
   "metadata": {},
   "source": [
    "## Gerekli Kütüphaneler"
   ]
  },
  {
   "cell_type": "code",
   "execution_count": 1,
   "id": "1c71a767-f762-49d1-80f2-a2b22d7bc9cf",
   "metadata": {},
   "outputs": [],
   "source": [
    "import numpy as np\n",
    "import pandas as pd\n",
    "\n",
    "from keras.models import Sequential\n",
    "from keras.layers import Dense, Flatten, MaxPooling2D, Conv2D, Input"
   ]
  },
  {
   "cell_type": "markdown",
   "id": "4c9c289b-9882-4cd4-96a5-6d75e7bf3185",
   "metadata": {},
   "source": [
    "## Modelin Oluşturulması"
   ]
  },
  {
   "cell_type": "code",
   "execution_count": 2,
   "id": "0ca6841a-bbaf-4413-aa95-1265f2bdac2d",
   "metadata": {},
   "outputs": [],
   "source": [
    "model = Sequential([\n",
    "    Input(shape=(64, 64, 3)),\n",
    "    Conv2D(32, (3, 3), activation='relu'),\n",
    "    MaxPooling2D(pool_size=(2, 2)),\n",
    "    Flatten(),\n",
    "    Dense(128, activation='relu'),\n",
    "    Dense(1, activation='sigmoid')\n",
    "])\n",
    "\n",
    "model.compile(optimizer=\"adam\", loss=\"binary_crossentropy\", metrics=['accuracy'])"
   ]
  },
  {
   "cell_type": "code",
   "execution_count": 3,
   "id": "b741dee9-a997-473a-9dbe-077efd13e403",
   "metadata": {},
   "outputs": [
    {
     "name": "stdout",
     "output_type": "stream",
     "text": [
      "Found 2662 images belonging to 2 classes.\n",
      "Found 203 images belonging to 2 classes.\n",
      "Epoch 1/2\n"
     ]
    },
    {
     "name": "stderr",
     "output_type": "stream",
     "text": [
      "C:\\Users\\Kirsa\\anaconda3\\lib\\site-packages\\keras\\src\\trainers\\data_adapters\\py_dataset_adapter.py:121: UserWarning: Your `PyDataset` class should call `super().__init__(**kwargs)` in its constructor. `**kwargs` can include `workers`, `use_multiprocessing`, `max_queue_size`. Do not pass these arguments to `fit()`, as they will be ignored.\n",
      "  self._warn_if_super_not_called()\n"
     ]
    },
    {
     "name": "stdout",
     "output_type": "stream",
     "text": [
      "\u001b[1m2662/2662\u001b[0m \u001b[32m━━━━━━━━━━━━━━━━━━━━\u001b[0m\u001b[37m\u001b[0m \u001b[1m67s\u001b[0m 24ms/step - accuracy: 0.7688 - loss: 0.6000 - val_accuracy: 0.8818 - val_loss: 0.2222\n",
      "Epoch 2/2\n",
      "\u001b[1m2662/2662\u001b[0m \u001b[32m━━━━━━━━━━━━━━━━━━━━\u001b[0m\u001b[37m\u001b[0m \u001b[1m67s\u001b[0m 25ms/step - accuracy: 0.8929 - loss: 0.2390 - val_accuracy: 0.8522 - val_loss: 0.2534\n"
     ]
    },
    {
     "data": {
      "text/plain": [
       "<keras.src.callbacks.history.History at 0x28bfd91a920>"
      ]
     },
     "execution_count": 3,
     "metadata": {},
     "output_type": "execute_result"
    }
   ],
   "source": [
    "from tensorflow.keras.preprocessing.image import ImageDataGenerator\n",
    "\n",
    "trainDataGen = ImageDataGenerator(\n",
    "    rescale=1./255,\n",
    "    shear_range=0.2,\n",
    "    zoom_range=0.2,\n",
    "    horizontal_flip=True\n",
    ")\n",
    "\n",
    "testDataGen = ImageDataGenerator(\n",
    "    rescale=1./255,\n",
    "    shear_range=0.2,\n",
    "    zoom_range=0.2,\n",
    "    horizontal_flip=True\n",
    ")\n",
    "\n",
    "trainingSet = trainDataGen.flow_from_directory(\n",
    "    'CNNdataset\\\\training_set',\n",
    "    target_size=(64,64),\n",
    "    batch_size=1,\n",
    "    class_mode='binary'\n",
    ")\n",
    "\n",
    "testSet = testDataGen.flow_from_directory(\n",
    "    'CNNdataset\\\\test_set',\n",
    "    target_size=(64,64),\n",
    "    batch_size=1,\n",
    "    class_mode='binary'\n",
    ")\n",
    "\n",
    "spe = trainingSet.samples \n",
    "vs = testSet.samples \n",
    "\n",
    "model.fit(\n",
    "    trainingSet,\n",
    "    steps_per_epoch=spe,\n",
    "    epochs=2,\n",
    "    validation_data=testSet,\n",
    "    validation_steps=vs\n",
    ")"
   ]
  },
  {
   "cell_type": "markdown",
   "id": "00c75fe0-f00e-41b2-8d0c-58bf5faa43e3",
   "metadata": {},
   "source": [
    "## Modelin Değerlendirilmesi"
   ]
  },
  {
   "cell_type": "code",
   "execution_count": 4,
   "id": "7bf43ac5-b4e2-41b6-9470-4a502444fa18",
   "metadata": {
    "scrolled": true
   },
   "outputs": [
    {
     "name": "stdout",
     "output_type": "stream",
     "text": [
      "\u001b[1m203/203\u001b[0m \u001b[32m━━━━━━━━━━━━━━━━━━━━\u001b[0m\u001b[37m\u001b[0m \u001b[1m2s\u001b[0m 9ms/step\n",
      "[1.0, 1.0, 0.0, 1.0, 0.0, 1.0, 0.0, 0.0, 0.0, 0.0, 1.0, 0.0, 0.0, 1.0, 0.0, 0.0, 0.0, 1.0, 0.0, 0.0, 1.0, 1.0, 0.0, 0.0, 0.0, 0.0, 0.0, 0.0, 1.0, 0.0, 0.0, 1.0, 0.0, 0.0, 0.0, 0.0, 0.0, 0.0, 0.0, 0.0, 1.0, 0.0, 0.0, 0.0, 0.0, 0.0, 0.0, 0.0, 0.0, 1.0, 0.0, 1.0, 0.0, 0.0, 1.0, 0.0, 0.0, 1.0, 0.0, 0.0, 0.0, 1.0, 0.0, 1.0, 0.0, 0.0, 0.0, 0.0, 1.0, 0.0, 0.0, 0.0, 0.0, 0.0, 0.0, 0.0, 0.0, 0.0, 1.0, 0.0, 0.0, 0.0, 1.0, 1.0, 1.0, 1.0, 0.0, 0.0, 0.0, 0.0, 0.0, 1.0, 0.0, 0.0, 0.0, 0.0, 0.0, 1.0, 0.0, 0.0, 0.0, 0.0, 0.0, 0.0, 0.0, 0.0, 1.0, 1.0, 0.0, 1.0, 0.0, 0.0, 0.0, 1.0, 0.0, 1.0, 0.0, 0.0, 1.0, 0.0, 1.0, 0.0, 1.0, 1.0, 0.0, 0.0, 0.0, 1.0, 0.0, 1.0, 1.0, 0.0, 1.0, 0.0, 0.0, 0.0, 0.0, 0.0, 0.0, 0.0, 0.0, 0.0, 0.0, 0.0, 0.0, 1.0, 0.0, 0.0, 1.0, 1.0, 0.0, 0.0, 1.0, 0.0, 1.0, 0.0, 0.0, 1.0, 1.0, 0.0, 0.0, 0.0, 0.0, 0.0, 0.0, 0.0, 0.0, 0.0, 1.0, 0.0, 0.0, 0.0, 0.0, 0.0, 0.0, 1.0, 1.0, 0.0, 0.0, 1.0, 0.0, 0.0, 0.0, 0.0, 0.0, 0.0, 0.0, 0.0, 0.0, 0.0, 0.0, 0.0, 0.0, 1.0, 0.0, 1.0, 0.0, 0.0, 0.0, 0.0, 0.0, 0.0, 0.0]\n"
     ]
    }
   ],
   "source": [
    "testSet.reset()\n",
    "pred = model.predict(testSet,verbose=1)\n",
    "pred[pred > .5] = 1\n",
    "pred[pred <= .5] = 0\n",
    "\n",
    "testLabels = []\n",
    "for i in range(0,203):\n",
    "    testLabels.extend(np.array(testSet[i][1]))\n",
    "\n",
    "print(testLabels)"
   ]
  },
  {
   "cell_type": "code",
   "execution_count": 5,
   "id": "d0b9c6ba-b3d9-4f5b-bee3-1bb7223bcc4a",
   "metadata": {},
   "outputs": [
    {
     "data": {
      "text/html": [
       "<div>\n",
       "<style scoped>\n",
       "    .dataframe tbody tr th:only-of-type {\n",
       "        vertical-align: middle;\n",
       "    }\n",
       "\n",
       "    .dataframe tbody tr th {\n",
       "        vertical-align: top;\n",
       "    }\n",
       "\n",
       "    .dataframe thead th {\n",
       "        text-align: right;\n",
       "    }\n",
       "</style>\n",
       "<table border=\"1\" class=\"dataframe\">\n",
       "  <thead>\n",
       "    <tr style=\"text-align: right;\">\n",
       "      <th></th>\n",
       "      <th>File_Name</th>\n",
       "      <th>tahminler</th>\n",
       "      <th>test</th>\n",
       "    </tr>\n",
       "  </thead>\n",
       "  <tbody>\n",
       "    <tr>\n",
       "      <th>0</th>\n",
       "      <td>erkek\\AbdA_00001_m_31_i_fr_nc_no_2016_2_e0_nl_...</td>\n",
       "      <td>0.0</td>\n",
       "      <td>1.0</td>\n",
       "    </tr>\n",
       "    <tr>\n",
       "      <th>1</th>\n",
       "      <td>erkek\\AbdA_00002_m_31_i_fr_nc_sr_2016_2_e0_nl_...</td>\n",
       "      <td>0.0</td>\n",
       "      <td>1.0</td>\n",
       "    </tr>\n",
       "    <tr>\n",
       "      <th>2</th>\n",
       "      <td>erkek\\AbdA_00003_m_31_i_fr_nc_hp_2016_2_e0_nl_...</td>\n",
       "      <td>0.0</td>\n",
       "      <td>0.0</td>\n",
       "    </tr>\n",
       "    <tr>\n",
       "      <th>3</th>\n",
       "      <td>erkek\\AbdA_00004_m_31_i_fr_nc_hp_2016_2_e0_nl_...</td>\n",
       "      <td>0.0</td>\n",
       "      <td>1.0</td>\n",
       "    </tr>\n",
       "    <tr>\n",
       "      <th>4</th>\n",
       "      <td>erkek\\AbdA_00005_m_31_i_fr_nc_hp_2016_2_e0_nl_...</td>\n",
       "      <td>0.0</td>\n",
       "      <td>0.0</td>\n",
       "    </tr>\n",
       "    <tr>\n",
       "      <th>...</th>\n",
       "      <td>...</td>\n",
       "      <td>...</td>\n",
       "      <td>...</td>\n",
       "    </tr>\n",
       "    <tr>\n",
       "      <th>198</th>\n",
       "      <td>kadin\\HadM_00817_f_23_i_nf_nc_hp_2014_1_e0_nl_...</td>\n",
       "      <td>0.0</td>\n",
       "      <td>0.0</td>\n",
       "    </tr>\n",
       "    <tr>\n",
       "      <th>199</th>\n",
       "      <td>kadin\\HadM_00818_f_25_o_nf_nc_no_2016_1_e0_nl_...</td>\n",
       "      <td>0.0</td>\n",
       "      <td>0.0</td>\n",
       "    </tr>\n",
       "    <tr>\n",
       "      <th>200</th>\n",
       "      <td>kadin\\HadM_00819_f_25_o_nf_nc_no_2016_1_e0_nl_...</td>\n",
       "      <td>0.0</td>\n",
       "      <td>0.0</td>\n",
       "    </tr>\n",
       "    <tr>\n",
       "      <th>201</th>\n",
       "      <td>kadin\\HebD_00821_f_28_i_nf_cr_sd_2016_1_e0_nl_...</td>\n",
       "      <td>0.0</td>\n",
       "      <td>0.0</td>\n",
       "    </tr>\n",
       "    <tr>\n",
       "      <th>202</th>\n",
       "      <td>kadin\\HebD_00822_f_28_o_nf_nc_hp_2016_1_e0_nl_...</td>\n",
       "      <td>0.0</td>\n",
       "      <td>0.0</td>\n",
       "    </tr>\n",
       "  </tbody>\n",
       "</table>\n",
       "<p>203 rows × 3 columns</p>\n",
       "</div>"
      ],
      "text/plain": [
       "                                             File_Name  tahminler  test\n",
       "0    erkek\\AbdA_00001_m_31_i_fr_nc_no_2016_2_e0_nl_...        0.0   1.0\n",
       "1    erkek\\AbdA_00002_m_31_i_fr_nc_sr_2016_2_e0_nl_...        0.0   1.0\n",
       "2    erkek\\AbdA_00003_m_31_i_fr_nc_hp_2016_2_e0_nl_...        0.0   0.0\n",
       "3    erkek\\AbdA_00004_m_31_i_fr_nc_hp_2016_2_e0_nl_...        0.0   1.0\n",
       "4    erkek\\AbdA_00005_m_31_i_fr_nc_hp_2016_2_e0_nl_...        0.0   0.0\n",
       "..                                                 ...        ...   ...\n",
       "198  kadin\\HadM_00817_f_23_i_nf_nc_hp_2014_1_e0_nl_...        0.0   0.0\n",
       "199  kadin\\HadM_00818_f_25_o_nf_nc_no_2016_1_e0_nl_...        0.0   0.0\n",
       "200  kadin\\HadM_00819_f_25_o_nf_nc_no_2016_1_e0_nl_...        0.0   0.0\n",
       "201  kadin\\HebD_00821_f_28_i_nf_cr_sd_2016_1_e0_nl_...        0.0   0.0\n",
       "202  kadin\\HebD_00822_f_28_o_nf_nc_hp_2016_1_e0_nl_...        0.0   0.0\n",
       "\n",
       "[203 rows x 3 columns]"
      ]
     },
     "execution_count": 5,
     "metadata": {},
     "output_type": "execute_result"
    }
   ],
   "source": [
    "dosyaIsimleri = testSet.filenames\n",
    "\n",
    "sonuc = pd.DataFrame()\n",
    "sonuc['File_Name'] = dosyaIsimleri\n",
    "sonuc['tahminler'] = pred\n",
    "sonuc['test'] = testLabels\n",
    "\n",
    "sonuc"
   ]
  },
  {
   "cell_type": "code",
   "execution_count": 6,
   "id": "18932f5b-4829-41f0-b8b4-1d678600ee11",
   "metadata": {},
   "outputs": [
    {
     "data": {
      "text/plain": [
       "array([[134,  46],\n",
       "       [ 17,   6]], dtype=int64)"
      ]
     },
     "execution_count": 6,
     "metadata": {},
     "output_type": "execute_result"
    }
   ],
   "source": [
    "from sklearn.metrics import confusion_matrix\n",
    "cm = confusion_matrix(pred,testLabels)\n",
    "cm"
   ]
  }
 ],
 "metadata": {
  "kernelspec": {
   "display_name": "Python 3 (ipykernel)",
   "language": "python",
   "name": "python3"
  },
  "language_info": {
   "codemirror_mode": {
    "name": "ipython",
    "version": 3
   },
   "file_extension": ".py",
   "mimetype": "text/x-python",
   "name": "python",
   "nbconvert_exporter": "python",
   "pygments_lexer": "ipython3",
   "version": "3.10.16"
  }
 },
 "nbformat": 4,
 "nbformat_minor": 5
}
